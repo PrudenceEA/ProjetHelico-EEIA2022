{
 "cells": [
  {
   "cell_type": "code",
   "execution_count": 33,
   "id": "fa99a3f8",
   "metadata": {},
   "outputs": [],
   "source": [
    "import pandas as pd\n",
    "import matplotlib.pyplot as plt\n",
    "import numpy as np\n",
    "from sklearn.linear_model import LinearRegression\n",
    "from sklearn.preprocessing import PolynomialFeatures\n",
    "from sklearn.metrics import mean_absolute_error"
   ]
  },
  {
   "cell_type": "code",
   "execution_count": 34,
   "id": "71626b19",
   "metadata": {},
   "outputs": [],
   "source": [
    "# x= np.linspace(0, 90, 50)\n",
    "# plt.scatter(essai['wl'], essai['t1'])\n",
    "# #plt.plot(x, x**0.5+1.5)"
   ]
  },
  {
   "cell_type": "code",
   "execution_count": 35,
   "id": "a0a30439",
   "metadata": {},
   "outputs": [],
   "source": [
    "# plt.scatter(essai['wl'], essai['t2'])"
   ]
  },
  {
   "cell_type": "code",
   "execution_count": 36,
   "id": "1c3b95d3",
   "metadata": {},
   "outputs": [],
   "source": [
    "# plt.scatter(essai['wl'], essai['Moyenne t1t2'])\n",
    "# #plt.plot(x, (x)**0.5+1.5)"
   ]
  },
  {
   "cell_type": "code",
   "execution_count": 37,
   "id": "2989a4b4",
   "metadata": {},
   "outputs": [
    {
     "data": {
      "text/html": [
       "<div>\n",
       "<style scoped>\n",
       "    .dataframe tbody tr th:only-of-type {\n",
       "        vertical-align: middle;\n",
       "    }\n",
       "\n",
       "    .dataframe tbody tr th {\n",
       "        vertical-align: top;\n",
       "    }\n",
       "\n",
       "    .dataframe thead th {\n",
       "        text-align: right;\n",
       "    }\n",
       "</style>\n",
       "<table border=\"1\" class=\"dataframe\">\n",
       "  <thead>\n",
       "    <tr style=\"text-align: right;\">\n",
       "      <th></th>\n",
       "      <th>wl</th>\n",
       "      <th>t1(1/100 s)</th>\n",
       "      <th>t2(1/100 s)</th>\n",
       "      <th>t3(1/100 s)</th>\n",
       "      <th>mention</th>\n",
       "      <th>moyenne</th>\n",
       "    </tr>\n",
       "  </thead>\n",
       "  <tbody>\n",
       "    <tr>\n",
       "      <th>0</th>\n",
       "      <td>43</td>\n",
       "      <td>740</td>\n",
       "      <td>780</td>\n",
       "      <td>779</td>\n",
       "      <td>B</td>\n",
       "      <td>766.333333</td>\n",
       "    </tr>\n",
       "    <tr>\n",
       "      <th>1</th>\n",
       "      <td>85</td>\n",
       "      <td>730</td>\n",
       "      <td>798</td>\n",
       "      <td>724</td>\n",
       "      <td>Ma</td>\n",
       "      <td>750.666667</td>\n",
       "    </tr>\n",
       "    <tr>\n",
       "      <th>2</th>\n",
       "      <td>72</td>\n",
       "      <td>755</td>\n",
       "      <td>683</td>\n",
       "      <td>983</td>\n",
       "      <td>Ma</td>\n",
       "      <td>807.000000</td>\n",
       "    </tr>\n",
       "    <tr>\n",
       "      <th>3</th>\n",
       "      <td>61</td>\n",
       "      <td>990</td>\n",
       "      <td>976</td>\n",
       "      <td>963</td>\n",
       "      <td>B</td>\n",
       "      <td>976.333333</td>\n",
       "    </tr>\n",
       "    <tr>\n",
       "      <th>4</th>\n",
       "      <td>37</td>\n",
       "      <td>771</td>\n",
       "      <td>763</td>\n",
       "      <td>775</td>\n",
       "      <td>B</td>\n",
       "      <td>769.666667</td>\n",
       "    </tr>\n",
       "    <tr>\n",
       "      <th>5</th>\n",
       "      <td>68</td>\n",
       "      <td>782</td>\n",
       "      <td>1010</td>\n",
       "      <td>685</td>\n",
       "      <td>Ma</td>\n",
       "      <td>825.666667</td>\n",
       "    </tr>\n",
       "    <tr>\n",
       "      <th>6</th>\n",
       "      <td>41</td>\n",
       "      <td>715</td>\n",
       "      <td>731</td>\n",
       "      <td>626</td>\n",
       "      <td>B</td>\n",
       "      <td>690.666667</td>\n",
       "    </tr>\n",
       "    <tr>\n",
       "      <th>7</th>\n",
       "      <td>8</td>\n",
       "      <td>334</td>\n",
       "      <td>356</td>\n",
       "      <td>352</td>\n",
       "      <td>B</td>\n",
       "      <td>347.333333</td>\n",
       "    </tr>\n",
       "    <tr>\n",
       "      <th>8</th>\n",
       "      <td>63</td>\n",
       "      <td>940</td>\n",
       "      <td>939</td>\n",
       "      <td>994</td>\n",
       "      <td>Mo</td>\n",
       "      <td>957.666667</td>\n",
       "    </tr>\n",
       "    <tr>\n",
       "      <th>9</th>\n",
       "      <td>12</td>\n",
       "      <td>478</td>\n",
       "      <td>498</td>\n",
       "      <td>502</td>\n",
       "      <td>B</td>\n",
       "      <td>492.666667</td>\n",
       "    </tr>\n",
       "    <tr>\n",
       "      <th>10</th>\n",
       "      <td>29</td>\n",
       "      <td>650</td>\n",
       "      <td>679</td>\n",
       "      <td>654</td>\n",
       "      <td>B</td>\n",
       "      <td>661.000000</td>\n",
       "    </tr>\n",
       "    <tr>\n",
       "      <th>11</th>\n",
       "      <td>43</td>\n",
       "      <td>734</td>\n",
       "      <td>819</td>\n",
       "      <td>856</td>\n",
       "      <td>Mo</td>\n",
       "      <td>803.000000</td>\n",
       "    </tr>\n",
       "    <tr>\n",
       "      <th>12</th>\n",
       "      <td>33</td>\n",
       "      <td>698</td>\n",
       "      <td>700</td>\n",
       "      <td>640</td>\n",
       "      <td>Mo</td>\n",
       "      <td>679.333333</td>\n",
       "    </tr>\n",
       "    <tr>\n",
       "      <th>13</th>\n",
       "      <td>49</td>\n",
       "      <td>729</td>\n",
       "      <td>750</td>\n",
       "      <td>648</td>\n",
       "      <td>Mo</td>\n",
       "      <td>709.000000</td>\n",
       "    </tr>\n",
       "    <tr>\n",
       "      <th>14</th>\n",
       "      <td>52</td>\n",
       "      <td>774</td>\n",
       "      <td>825</td>\n",
       "      <td>754</td>\n",
       "      <td>Mo</td>\n",
       "      <td>784.333333</td>\n",
       "    </tr>\n",
       "    <tr>\n",
       "      <th>15</th>\n",
       "      <td>21</td>\n",
       "      <td>669</td>\n",
       "      <td>638</td>\n",
       "      <td>626</td>\n",
       "      <td>B</td>\n",
       "      <td>644.333333</td>\n",
       "    </tr>\n",
       "    <tr>\n",
       "      <th>16</th>\n",
       "      <td>37</td>\n",
       "      <td>748</td>\n",
       "      <td>669</td>\n",
       "      <td>775</td>\n",
       "      <td>B</td>\n",
       "      <td>730.666667</td>\n",
       "    </tr>\n",
       "    <tr>\n",
       "      <th>17</th>\n",
       "      <td>68</td>\n",
       "      <td>746</td>\n",
       "      <td>1010</td>\n",
       "      <td>750</td>\n",
       "      <td>Ma</td>\n",
       "      <td>835.333333</td>\n",
       "    </tr>\n",
       "    <tr>\n",
       "      <th>18</th>\n",
       "      <td>63</td>\n",
       "      <td>972</td>\n",
       "      <td>920</td>\n",
       "      <td>102</td>\n",
       "      <td>Mo</td>\n",
       "      <td>664.666667</td>\n",
       "    </tr>\n",
       "    <tr>\n",
       "      <th>19</th>\n",
       "      <td>25</td>\n",
       "      <td>616</td>\n",
       "      <td>630</td>\n",
       "      <td>629</td>\n",
       "      <td>Mo</td>\n",
       "      <td>625.000000</td>\n",
       "    </tr>\n",
       "    <tr>\n",
       "      <th>20</th>\n",
       "      <td>88</td>\n",
       "      <td>776</td>\n",
       "      <td>777</td>\n",
       "      <td>779</td>\n",
       "      <td>Ma</td>\n",
       "      <td>777.333333</td>\n",
       "    </tr>\n",
       "    <tr>\n",
       "      <th>21</th>\n",
       "      <td>80</td>\n",
       "      <td>779</td>\n",
       "      <td>789</td>\n",
       "      <td>867</td>\n",
       "      <td>Ma</td>\n",
       "      <td>811.666667</td>\n",
       "    </tr>\n",
       "    <tr>\n",
       "      <th>22</th>\n",
       "      <td>85</td>\n",
       "      <td>740</td>\n",
       "      <td>798</td>\n",
       "      <td>724</td>\n",
       "      <td>Ma</td>\n",
       "      <td>754.000000</td>\n",
       "    </tr>\n",
       "    <tr>\n",
       "      <th>23</th>\n",
       "      <td>17</td>\n",
       "      <td>492</td>\n",
       "      <td>534</td>\n",
       "      <td>518</td>\n",
       "      <td>B</td>\n",
       "      <td>514.666667</td>\n",
       "    </tr>\n",
       "    <tr>\n",
       "      <th>24</th>\n",
       "      <td>25</td>\n",
       "      <td>607</td>\n",
       "      <td>634</td>\n",
       "      <td>603</td>\n",
       "      <td>Mo</td>\n",
       "      <td>614.666667</td>\n",
       "    </tr>\n",
       "    <tr>\n",
       "      <th>25</th>\n",
       "      <td>15</td>\n",
       "      <td>559</td>\n",
       "      <td>537</td>\n",
       "      <td>533</td>\n",
       "      <td>B</td>\n",
       "      <td>543.000000</td>\n",
       "    </tr>\n",
       "    <tr>\n",
       "      <th>26</th>\n",
       "      <td>76</td>\n",
       "      <td>710</td>\n",
       "      <td>773</td>\n",
       "      <td>1025</td>\n",
       "      <td>Ma</td>\n",
       "      <td>836.000000</td>\n",
       "    </tr>\n",
       "  </tbody>\n",
       "</table>\n",
       "</div>"
      ],
      "text/plain": [
       "    wl  t1(1/100 s)  t2(1/100 s)  t3(1/100 s) mention     moyenne\n",
       "0   43          740          780          779       B  766.333333\n",
       "1   85          730          798          724      Ma  750.666667\n",
       "2   72          755          683          983      Ma  807.000000\n",
       "3   61          990          976          963       B  976.333333\n",
       "4   37          771          763          775       B  769.666667\n",
       "5   68          782         1010          685      Ma  825.666667\n",
       "6   41          715          731          626       B  690.666667\n",
       "7    8          334          356          352       B  347.333333\n",
       "8   63          940          939          994      Mo  957.666667\n",
       "9   12          478          498          502       B  492.666667\n",
       "10  29          650          679          654       B  661.000000\n",
       "11  43          734          819          856      Mo  803.000000\n",
       "12  33          698          700          640      Mo  679.333333\n",
       "13  49          729          750          648      Mo  709.000000\n",
       "14  52          774          825          754      Mo  784.333333\n",
       "15  21          669          638          626       B  644.333333\n",
       "16  37          748          669          775       B  730.666667\n",
       "17  68          746         1010          750      Ma  835.333333\n",
       "18  63          972          920          102      Mo  664.666667\n",
       "19  25          616          630          629      Mo  625.000000\n",
       "20  88          776          777          779      Ma  777.333333\n",
       "21  80          779          789          867      Ma  811.666667\n",
       "22  85          740          798          724      Ma  754.000000\n",
       "23  17          492          534          518       B  514.666667\n",
       "24  25          607          634          603      Mo  614.666667\n",
       "25  15          559          537          533       B  543.000000\n",
       "26  76          710          773         1025      Ma  836.000000"
      ]
     },
     "execution_count": 37,
     "metadata": {},
     "output_type": "execute_result"
    }
   ],
   "source": [
    "essais = pd.read_csv('D:/Wiki/Programmes/Programmation/EEIA 2022/Projet/null.csv', sep=';')\n",
    "essais['moyenne']= essais[[\"t1(1/100 s)\", \"t2(1/100 s)\", \"t3(1/100 s)\"]].mean(axis = 1)\n",
    "essais\n",
    "#essai = essais[essais.moyenne == 'Ma']\n",
    "#essai"
   ]
  },
  {
   "cell_type": "code",
   "execution_count": 51,
   "id": "ae5cd472",
   "metadata": {},
   "outputs": [
    {
     "data": {
      "text/html": [
       "<div>\n",
       "<style scoped>\n",
       "    .dataframe tbody tr th:only-of-type {\n",
       "        vertical-align: middle;\n",
       "    }\n",
       "\n",
       "    .dataframe tbody tr th {\n",
       "        vertical-align: top;\n",
       "    }\n",
       "\n",
       "    .dataframe thead th {\n",
       "        text-align: right;\n",
       "    }\n",
       "</style>\n",
       "<table border=\"1\" class=\"dataframe\">\n",
       "  <thead>\n",
       "    <tr style=\"text-align: right;\">\n",
       "      <th></th>\n",
       "      <th>wl</th>\n",
       "      <th>t1(1/100 s)</th>\n",
       "      <th>t2(1/100 s)</th>\n",
       "      <th>t3(1/100 s)</th>\n",
       "      <th>moyenne</th>\n",
       "    </tr>\n",
       "  </thead>\n",
       "  <tbody>\n",
       "    <tr>\n",
       "      <th>wl</th>\n",
       "      <td>1.000000</td>\n",
       "      <td>0.682695</td>\n",
       "      <td>0.731078</td>\n",
       "      <td>0.495271</td>\n",
       "      <td>0.747989</td>\n",
       "    </tr>\n",
       "    <tr>\n",
       "      <th>t1(1/100 s)</th>\n",
       "      <td>0.682695</td>\n",
       "      <td>1.000000</td>\n",
       "      <td>0.880668</td>\n",
       "      <td>0.403791</td>\n",
       "      <td>0.868753</td>\n",
       "    </tr>\n",
       "    <tr>\n",
       "      <th>t2(1/100 s)</th>\n",
       "      <td>0.731078</td>\n",
       "      <td>0.880668</td>\n",
       "      <td>1.000000</td>\n",
       "      <td>0.407431</td>\n",
       "      <td>0.874877</td>\n",
       "    </tr>\n",
       "    <tr>\n",
       "      <th>t3(1/100 s)</th>\n",
       "      <td>0.495271</td>\n",
       "      <td>0.403791</td>\n",
       "      <td>0.407431</td>\n",
       "      <td>1.000000</td>\n",
       "      <td>0.773678</td>\n",
       "    </tr>\n",
       "    <tr>\n",
       "      <th>moyenne</th>\n",
       "      <td>0.747989</td>\n",
       "      <td>0.868753</td>\n",
       "      <td>0.874877</td>\n",
       "      <td>0.773678</td>\n",
       "      <td>1.000000</td>\n",
       "    </tr>\n",
       "  </tbody>\n",
       "</table>\n",
       "</div>"
      ],
      "text/plain": [
       "                   wl  t1(1/100 s)  t2(1/100 s)  t3(1/100 s)   moyenne\n",
       "wl           1.000000     0.682695     0.731078     0.495271  0.747989\n",
       "t1(1/100 s)  0.682695     1.000000     0.880668     0.403791  0.868753\n",
       "t2(1/100 s)  0.731078     0.880668     1.000000     0.407431  0.874877\n",
       "t3(1/100 s)  0.495271     0.403791     0.407431     1.000000  0.773678\n",
       "moyenne      0.747989     0.868753     0.874877     0.773678  1.000000"
      ]
     },
     "execution_count": 51,
     "metadata": {},
     "output_type": "execute_result"
    }
   ],
   "source": [
    "essais.corr()"
   ]
  },
  {
   "cell_type": "code",
   "execution_count": 39,
   "id": "4e6d1212",
   "metadata": {},
   "outputs": [
    {
     "data": {
      "text/plain": [
       "<matplotlib.collections.PathCollection at 0x29b8c6fefa0>"
      ]
     },
     "execution_count": 39,
     "metadata": {},
     "output_type": "execute_result"
    },
    {
     "data": {
      "image/png": "[encoded data removed]",
      "text/plain": [
       "<Figure size 432x288 with 1 Axes>"
      ]
     },
     "metadata": {
      "needs_background": "light"
     },
     "output_type": "display_data"
    }
   ],
   "source": [
    "plt.scatter(essais['wl'], essais['t1(1/100 s)'])"
   ]
  },
  {
   "cell_type": "code",
   "execution_count": 40,
   "id": "ba47636d",
   "metadata": {},
   "outputs": [
    {
     "data": {
      "text/plain": [
       "<matplotlib.collections.PathCollection at 0x29b8c765160>"
      ]
     },
     "execution_count": 40,
     "metadata": {},
     "output_type": "execute_result"
    },
    {
     "data": {
      "image/png": "[encoded data removed]",
      "text/plain": [
       "<Figure size 432x288 with 1 Axes>"
      ]
     },
     "metadata": {
      "needs_background": "light"
     },
     "output_type": "display_data"
    }
   ],
   "source": [
    "plt.scatter(essais['wl'], essais['t2(1/100 s)'])"
   ]
  },
  {
   "cell_type": "code",
   "execution_count": 41,
   "id": "57ce9e7f",
   "metadata": {},
   "outputs": [
    {
     "data": {
      "text/plain": [
       "<matplotlib.collections.PathCollection at 0x29b8c7c8cd0>"
      ]
     },
     "execution_count": 41,
     "metadata": {},
     "output_type": "execute_result"
    },
    {
     "data": {
      "image/png": "[encoded data removed]",
      "text/plain": [
       "<Figure size 432x288 with 1 Axes>"
      ]
     },
     "metadata": {
      "needs_background": "light"
     },
     "output_type": "display_data"
    }
   ],
   "source": [
    "plt.scatter(essais['wl'], essais['t3(1/100 s)'])"
   ]
  },
  {
   "cell_type": "code",
   "execution_count": 42,
   "id": "d8135e56",
   "metadata": {},
   "outputs": [
    {
     "data": {
      "text/plain": [
       "<matplotlib.collections.PathCollection at 0x29b8c82f940>"
      ]
     },
     "execution_count": 42,
     "metadata": {},
     "output_type": "execute_result"
    },
    {
     "data": {
      "image/png": "[encoded data removed]",
      "text/plain": [
       "<Figure size 432x288 with 1 Axes>"
      ]
     },
     "metadata": {
      "needs_background": "light"
     },
     "output_type": "display_data"
    }
   ],
   "source": [
    "plt.scatter(essais['wl'], essais['moyenne'])"
   ]
  },
  {
   "cell_type": "code",
   "execution_count": 43,
   "id": "6a6e2e8e",
   "metadata": {},
   "outputs": [],
   "source": [
    "X = essais['wl']\n",
    "Y = essais[\"t1(1/100 s)\"]"
   ]
  },
  {
   "cell_type": "code",
   "execution_count": 52,
   "id": "96a6636e",
   "metadata": {},
   "outputs": [
    {
     "ename": "NameError",
     "evalue": "name 'r2_score' is not defined",
     "output_type": "error",
     "traceback": [
      "\u001b[1;31m---------------------------------------------------------------------------\u001b[0m",
      "\u001b[1;31mNameError\u001b[0m                                 Traceback (most recent call last)",
      "\u001b[1;32md:\\Wiki\\Programmes\\Programmation\\EEIA 2022\\Projet\\Projet_EEIA_2022.ipynb Cellule 12\u001b[0m in \u001b[0;36m<cell line: 10>\u001b[1;34m()\u001b[0m\n\u001b[0;32m      <a href='vscode-notebook-cell:/d%3A/Wiki/Programmes/Programmation/EEIA%202022/Projet/Projet_EEIA_2022.ipynb#ch0000015?line=7'>8</a>\u001b[0m     p \u001b[39m=\u001b[39mnp\u001b[39m.\u001b[39mpolyfit(essais[\u001b[39m'\u001b[39m\u001b[39mwl\u001b[39m\u001b[39m'\u001b[39m], essais[\u001b[39m'\u001b[39m\u001b[39mmoyenne\u001b[39m\u001b[39m'\u001b[39m], t)\n\u001b[0;32m      <a href='vscode-notebook-cell:/d%3A/Wiki/Programmes/Programmation/EEIA%202022/Projet/Projet_EEIA_2022.ipynb#ch0000015?line=8'>9</a>\u001b[0m     \u001b[39mreturn\u001b[39;00m r2_score(y_true, y_pred), p\n\u001b[1;32m---> <a href='vscode-notebook-cell:/d%3A/Wiki/Programmes/Programmation/EEIA%202022/Projet/Projet_EEIA_2022.ipynb#ch0000015?line=9'>10</a>\u001b[0m pol(\u001b[39m2\u001b[39;49m)\n",
      "\u001b[1;32md:\\Wiki\\Programmes\\Programmation\\EEIA 2022\\Projet\\Projet_EEIA_2022.ipynb Cellule 12\u001b[0m in \u001b[0;36mpol\u001b[1;34m(t)\u001b[0m\n\u001b[0;32m      <a href='vscode-notebook-cell:/d%3A/Wiki/Programmes/Programmation/EEIA%202022/Projet/Projet_EEIA_2022.ipynb#ch0000015?line=6'>7</a>\u001b[0m y_pred \u001b[39m=\u001b[39m mymodel(essais[\u001b[39m'\u001b[39m\u001b[39mwl\u001b[39m\u001b[39m'\u001b[39m])\n\u001b[0;32m      <a href='vscode-notebook-cell:/d%3A/Wiki/Programmes/Programmation/EEIA%202022/Projet/Projet_EEIA_2022.ipynb#ch0000015?line=7'>8</a>\u001b[0m p \u001b[39m=\u001b[39mnp\u001b[39m.\u001b[39mpolyfit(essais[\u001b[39m'\u001b[39m\u001b[39mwl\u001b[39m\u001b[39m'\u001b[39m], essais[\u001b[39m'\u001b[39m\u001b[39mmoyenne\u001b[39m\u001b[39m'\u001b[39m], t)\n\u001b[1;32m----> <a href='vscode-notebook-cell:/d%3A/Wiki/Programmes/Programmation/EEIA%202022/Projet/Projet_EEIA_2022.ipynb#ch0000015?line=8'>9</a>\u001b[0m \u001b[39mreturn\u001b[39;00m r2_score(y_true, y_pred), p\n",
      "\u001b[1;31mNameError\u001b[0m: name 'r2_score' is not defined"
     ]
    },
    {
     "data": {
      "image/png": "[encoded data removed]",
      "text/plain": [
       "<Figure size 432x288 with 1 Axes>"
      ]
     },
     "metadata": {
      "needs_background": "light"
     },
     "output_type": "display_data"
    }
   ],
   "source": [
    "def pol(t):\n",
    "    mymodel = np.poly1d(np.polyfit(essais['wl'], essais['moyenne'], t))\n",
    "    myline = np.linspace(1, 110, 100)\n",
    "    plt.scatter(essais['wl'], essais['moyenne'], c='black')\n",
    "    plt.plot(myline, mymodel(myline))\n",
    "    y_true = essais['moyenne']\n",
    "    y_pred = mymodel(essais['wl'])\n",
    "    p =np.polyfit(essais['wl'], essais['moyenne'], t)\n",
    "    return r2_score(y_true, y_pred), p\n",
    "pol(2)\n",
    "   "
   ]
  },
  {
   "cell_type": "code",
   "execution_count": null,
   "id": "0169320b",
   "metadata": {},
   "outputs": [],
   "source": [
    "from sklearn.metrics import r2_score"
   ]
  },
  {
   "cell_type": "code",
   "execution_count": null,
   "id": "e82c1094",
   "metadata": {},
   "outputs": [],
   "source": [
    "help(r2_score)"
   ]
  },
  {
   "cell_type": "code",
   "execution_count": null,
   "id": "951aa7c8",
   "metadata": {},
   "outputs": [],
   "source": [
    "score=[pol(i) for i in range(15)]\n",
    "degree=[i for i in range(15)]"
   ]
  },
  {
   "cell_type": "code",
   "execution_count": null,
   "id": "9e7948d8",
   "metadata": {},
   "outputs": [],
   "source": [
    "plt.plot(degree, score)"
   ]
  },
  {
   "cell_type": "code",
   "execution_count": 46,
   "id": "ddaa6fa0",
   "metadata": {},
   "outputs": [
    {
     "data": {
      "text/plain": [
       "array([143.91108976, -14.66277883])"
      ]
     },
     "execution_count": 46,
     "metadata": {},
     "output_type": "execute_result"
    },
    {
     "data": {
      "image/png": "[encoded data removed]",
      "text/plain": [
       "<Figure size 432x288 with 1 Axes>"
      ]
     },
     "metadata": {
      "needs_background": "light"
     },
     "output_type": "display_data"
    }
   ],
   "source": [
    "mymodel = np.poly1d(np.polyfit(essais['wl'], essais['moyenne'], 2))\n",
    "myline = np.linspace(1, 110, 100)\n",
    "plt.scatter(essais['wl'], essais['moyenne'], c='black')\n",
    "plt.plot(myline, mymodel(myline))\n",
    "y_true = essais['moyenne']\n",
    "y_pred = mymodel(essais['wl'])\n",
    "p =np.polyfit(essais['wl'], essais['moyenne'], 2)\n",
    "np.roots(p)"
   ]
  },
  {
   "cell_type": "code",
   "execution_count": null,
   "id": "76b584e4",
   "metadata": {},
   "outputs": [],
   "source": [
    "#import numpy as np\n",
    "#P = np.poly1d([0.5, 2, 1])\n",
    "#p1 = P.deriv() \n",
    "\n",
    "#x = 0,4 \n",
    "#a = 0,1 \n",
    "#for i in range (100) : \n",
    " #   x = x + a*p1(x) \n",
    "  #  print(x)\n"
   ]
  },
  {
   "cell_type": "code",
   "execution_count": 47,
   "id": "372ed02d",
   "metadata": {},
   "outputs": [
    {
     "name": "stdout",
     "output_type": "stream",
     "text": [
      "[831.53008912]\n",
      "[64.62415547]\n",
      "[ 0.         20.03800759]\n",
      "[ 0.        31.8331901]\n",
      "[ 0.         40.50797901]\n",
      "[ 0.         46.88786864]\n",
      "[ 0.         51.57997034]\n",
      "[ 0.         55.03078526]\n",
      "[ 0.         57.56869351]\n",
      "[ 0.         59.43520285]\n",
      "[ 0.         60.80793061]\n",
      "[ 0.        61.8175058]\n",
      "[ 0.         62.55999975]\n",
      "[ 0.         63.10606831]\n",
      "[ 0.         63.50767544]\n",
      "[ 0.         63.80303816]\n",
      "[ 0.         64.02026321]\n",
      "[ 0.         64.18002179]\n",
      "[ 0.         64.29751652]\n",
      "[ 0.         64.38392825]\n",
      "[ 0.         64.44747991]\n",
      "[ 0.        64.4942191]\n",
      "[ 0.         64.52859353]\n",
      "[ 0.         64.55387426]\n",
      "[ 0.         64.57246702]\n",
      "[ 0.        64.5861411]\n",
      "[ 0.         64.59619773]\n",
      "[ 0.        64.6035939]\n",
      "[ 0.         64.60903342]\n",
      "[ 0.         64.61303393]\n",
      "[ 0.         64.61597611]\n",
      "[ 0.         64.61813995]\n",
      "[ 0.         64.61973134]\n",
      "[ 0.         64.62090173]\n",
      "[ 0.        64.6217625]\n",
      "[ 0.         64.62239556]\n",
      "[ 0.         64.62286114]\n",
      "[ 0.         64.62320355]\n",
      "[ 0.         64.62345538]\n",
      "[ 0.         64.62364058]\n",
      "[ 0.        64.6237768]\n",
      "[ 0.         64.62387697]\n",
      "[ 0.         64.62395065]\n",
      "[ 0.         64.62400483]\n",
      "[ 0.         64.62404468]\n",
      "[ 0.         64.62407399]\n",
      "[ 0.         64.62409554]\n",
      "[ 0.        64.6241114]\n",
      "[ 0.         64.62412305]\n",
      "[ 0.         64.62413163]\n",
      "[ 0.         64.62413793]\n",
      "[ 0.         64.62414257]\n",
      "[ 0.         64.62414598]\n",
      "[ 0.         64.62414849]\n",
      "[ 0.         64.62415034]\n",
      "[ 0.         64.62415169]\n",
      "[ 0.         64.62415269]\n",
      "[ 0.         64.62415343]\n",
      "[ 0.         64.62415397]\n",
      "[ 0.         64.62415436]\n",
      "[ 0.         64.62415465]\n",
      "[ 0.         64.62415487]\n",
      "[ 0.         64.62415503]\n",
      "[ 0.         64.62415514]\n",
      "[ 0.         64.62415523]\n",
      "[ 0.         64.62415529]\n",
      "[ 0.         64.62415534]\n",
      "[ 0.         64.62415537]\n",
      "[ 0.        64.6241554]\n",
      "[ 0.         64.62415541]\n",
      "[ 0.         64.62415543]\n",
      "[ 0.         64.62415544]\n",
      "[ 0.         64.62415545]\n",
      "[ 0.         64.62415545]\n",
      "[ 0.         64.62415545]\n",
      "[ 0.         64.62415546]\n",
      "[ 0.         64.62415546]\n",
      "[ 0.         64.62415546]\n",
      "[ 0.         64.62415546]\n",
      "[ 0.         64.62415546]\n",
      "[ 0.         64.62415546]\n",
      "[ 0.         64.62415546]\n",
      "[ 0.         64.62415546]\n",
      "[ 0.         64.62415547]\n",
      "[ 0.         64.62415547]\n",
      "[ 0.         64.62415547]\n",
      "[ 0.         64.62415547]\n",
      "[ 0.         64.62415547]\n",
      "[ 0.         64.62415547]\n",
      "[ 0.         64.62415547]\n",
      "[ 0.         64.62415547]\n",
      "[ 0.         64.62415547]\n",
      "[ 0.         64.62415547]\n",
      "[ 0.         64.62415547]\n",
      "[ 0.         64.62415547]\n",
      "[ 0.         64.62415547]\n",
      "[ 0.         64.62415547]\n",
      "[ 0.         64.62415547]\n",
      "[ 0.         64.62415547]\n",
      "[ 0.         64.62415547]\n",
      "[ 0.         64.62415547]\n",
      "[ 0.         64.62415547]\n"
     ]
    }
   ],
   "source": [
    "p1 = np.poly1d(p) \n",
    "q = p1.deriv()\n",
    "r = np.roots(q)    \n",
    "print(p1(r))\n",
    "print(r)\n",
    "x = 0,4 \n",
    "a = 0,1 \n",
    "for i in range (100) : \n",
    "    x = x + a*q(x) \n",
    "    print(x)\n"
   ]
  },
  {
   "cell_type": "code",
   "execution_count": 63,
   "id": "2399f20e",
   "metadata": {},
   "outputs": [
    {
     "data": {
      "text/html": [
       "<div>\n",
       "<style scoped>\n",
       "    .dataframe tbody tr th:only-of-type {\n",
       "        vertical-align: middle;\n",
       "    }\n",
       "\n",
       "    .dataframe tbody tr th {\n",
       "        vertical-align: top;\n",
       "    }\n",
       "\n",
       "    .dataframe thead th {\n",
       "        text-align: right;\n",
       "    }\n",
       "</style>\n",
       "<table border=\"1\" class=\"dataframe\">\n",
       "  <thead>\n",
       "    <tr style=\"text-align: right;\">\n",
       "      <th></th>\n",
       "      <th>Wl</th>\n",
       "      <th>Ww</th>\n",
       "      <th>T1</th>\n",
       "      <th>T2</th>\n",
       "      <th>T3</th>\n",
       "      <th>Performance</th>\n",
       "      <th>Moyenne de temps</th>\n",
       "    </tr>\n",
       "  </thead>\n",
       "  <tbody>\n",
       "    <tr>\n",
       "      <th>0</th>\n",
       "      <td>33.55</td>\n",
       "      <td>69.81</td>\n",
       "      <td>1030</td>\n",
       "      <td>841</td>\n",
       "      <td>827</td>\n",
       "      <td>B</td>\n",
       "      <td>899.333333</td>\n",
       "    </tr>\n",
       "    <tr>\n",
       "      <th>1</th>\n",
       "      <td>65.32</td>\n",
       "      <td>30.53</td>\n",
       "      <td>705</td>\n",
       "      <td>817</td>\n",
       "      <td>778</td>\n",
       "      <td>Ma</td>\n",
       "      <td>766.666667</td>\n",
       "    </tr>\n",
       "    <tr>\n",
       "      <th>2</th>\n",
       "      <td>40.75</td>\n",
       "      <td>64.64</td>\n",
       "      <td>813</td>\n",
       "      <td>698</td>\n",
       "      <td>630</td>\n",
       "      <td>Mo</td>\n",
       "      <td>713.666667</td>\n",
       "    </tr>\n",
       "    <tr>\n",
       "      <th>3</th>\n",
       "      <td>50.39</td>\n",
       "      <td>68.77</td>\n",
       "      <td>843</td>\n",
       "      <td>775</td>\n",
       "      <td>757</td>\n",
       "      <td>Mo</td>\n",
       "      <td>791.666667</td>\n",
       "    </tr>\n",
       "    <tr>\n",
       "      <th>4</th>\n",
       "      <td>53.77</td>\n",
       "      <td>42.01</td>\n",
       "      <td>777</td>\n",
       "      <td>775</td>\n",
       "      <td>849</td>\n",
       "      <td>B</td>\n",
       "      <td>800.333333</td>\n",
       "    </tr>\n",
       "  </tbody>\n",
       "</table>\n",
       "</div>"
      ],
      "text/plain": [
       "      Wl     Ww    T1   T2   T3 Performance  Moyenne de temps\n",
       "0  33.55  69.81  1030  841  827           B        899.333333\n",
       "1  65.32  30.53   705  817  778          Ma        766.666667\n",
       "2  40.75  64.64   813  698  630          Mo        713.666667\n",
       "3  50.39  68.77   843  775  757          Mo        791.666667\n",
       "4  53.77  42.01   777  775  849           B        800.333333"
      ]
     },
     "execution_count": 63,
     "metadata": {},
     "output_type": "execute_result"
    }
   ],
   "source": [
    "data_helico2 = pd.read_csv('D:/Wiki/Programmes/Programmation/EEIA 2022/Projet/Classeur2.csv', sep=';')\n",
    "data_helico2['Moyenne de temps']= (data_helico2[\"T1\"] + data_helico2[\"T2\"] + data_helico2[\"T3\"])/3\n",
    "data_helico2.head()\n"
   ]
  },
  {
   "cell_type": "code",
   "execution_count": 67,
   "id": "c33093b4",
   "metadata": {},
   "outputs": [
    {
     "data": {
      "text/html": [
       "<div>\n",
       "<style scoped>\n",
       "    .dataframe tbody tr th:only-of-type {\n",
       "        vertical-align: middle;\n",
       "    }\n",
       "\n",
       "    .dataframe tbody tr th {\n",
       "        vertical-align: top;\n",
       "    }\n",
       "\n",
       "    .dataframe thead th {\n",
       "        text-align: right;\n",
       "    }\n",
       "</style>\n",
       "<table border=\"1\" class=\"dataframe\">\n",
       "  <thead>\n",
       "    <tr style=\"text-align: right;\">\n",
       "      <th></th>\n",
       "      <th>Wl</th>\n",
       "      <th>Ww</th>\n",
       "      <th>T1</th>\n",
       "      <th>T2</th>\n",
       "      <th>T3</th>\n",
       "      <th>Moyenne de temps</th>\n",
       "    </tr>\n",
       "  </thead>\n",
       "  <tbody>\n",
       "    <tr>\n",
       "      <th>Wl</th>\n",
       "      <td>1.000000</td>\n",
       "      <td>-0.200079</td>\n",
       "      <td>0.525540</td>\n",
       "      <td>0.513704</td>\n",
       "      <td>0.705488</td>\n",
       "      <td>0.715478</td>\n",
       "    </tr>\n",
       "    <tr>\n",
       "      <th>Ww</th>\n",
       "      <td>-0.200079</td>\n",
       "      <td>1.000000</td>\n",
       "      <td>0.134138</td>\n",
       "      <td>0.389441</td>\n",
       "      <td>0.149679</td>\n",
       "      <td>0.262559</td>\n",
       "    </tr>\n",
       "    <tr>\n",
       "      <th>T1</th>\n",
       "      <td>0.525540</td>\n",
       "      <td>0.134138</td>\n",
       "      <td>1.000000</td>\n",
       "      <td>0.343381</td>\n",
       "      <td>0.330747</td>\n",
       "      <td>0.756008</td>\n",
       "    </tr>\n",
       "    <tr>\n",
       "      <th>T2</th>\n",
       "      <td>0.513704</td>\n",
       "      <td>0.389441</td>\n",
       "      <td>0.343381</td>\n",
       "      <td>1.000000</td>\n",
       "      <td>0.832763</td>\n",
       "      <td>0.842570</td>\n",
       "    </tr>\n",
       "    <tr>\n",
       "      <th>T3</th>\n",
       "      <td>0.705488</td>\n",
       "      <td>0.149679</td>\n",
       "      <td>0.330747</td>\n",
       "      <td>0.832763</td>\n",
       "      <td>1.000000</td>\n",
       "      <td>0.839958</td>\n",
       "    </tr>\n",
       "    <tr>\n",
       "      <th>Moyenne de temps</th>\n",
       "      <td>0.715478</td>\n",
       "      <td>0.262559</td>\n",
       "      <td>0.756008</td>\n",
       "      <td>0.842570</td>\n",
       "      <td>0.839958</td>\n",
       "      <td>1.000000</td>\n",
       "    </tr>\n",
       "  </tbody>\n",
       "</table>\n",
       "</div>"
      ],
      "text/plain": [
       "                        Wl        Ww        T1        T2        T3  \\\n",
       "Wl                1.000000 -0.200079  0.525540  0.513704  0.705488   \n",
       "Ww               -0.200079  1.000000  0.134138  0.389441  0.149679   \n",
       "T1                0.525540  0.134138  1.000000  0.343381  0.330747   \n",
       "T2                0.513704  0.389441  0.343381  1.000000  0.832763   \n",
       "T3                0.705488  0.149679  0.330747  0.832763  1.000000   \n",
       "Moyenne de temps  0.715478  0.262559  0.756008  0.842570  0.839958   \n",
       "\n",
       "                  Moyenne de temps  \n",
       "Wl                        0.715478  \n",
       "Ww                        0.262559  \n",
       "T1                        0.756008  \n",
       "T2                        0.842570  \n",
       "T3                        0.839958  \n",
       "Moyenne de temps          1.000000  "
      ]
     },
     "execution_count": 67,
     "metadata": {},
     "output_type": "execute_result"
    }
   ],
   "source": [
    "data_helico2.corr()"
   ]
  },
  {
   "cell_type": "code",
   "execution_count": 64,
   "id": "1d6da7ba",
   "metadata": {},
   "outputs": [
    {
     "data": {
      "text/plain": [
       "<matplotlib.collections.PathCollection at 0x29b9133d610>"
      ]
     },
     "execution_count": 64,
     "metadata": {},
     "output_type": "execute_result"
    },
    {
     "data": {
      "image/png": "[encoded data removed]",
      "text/plain": [
       "<Figure size 432x288 with 1 Axes>"
      ]
     },
     "metadata": {
      "needs_background": "light"
     },
     "output_type": "display_data"
    }
   ],
   "source": [
    "plt.scatter(data_helico2[\"Wl\"], data_helico2[\"T1\"])"
   ]
  },
  {
   "cell_type": "code",
   "execution_count": 65,
   "id": "27de9d41",
   "metadata": {},
   "outputs": [
    {
     "data": {
      "text/plain": [
       "<matplotlib.collections.PathCollection at 0x29b9137e1f0>"
      ]
     },
     "execution_count": 65,
     "metadata": {},
     "output_type": "execute_result"
    },
    {
     "data": {
      "image/png": "[encoded data removed]",
      "text/plain": [
       "<Figure size 432x288 with 1 Axes>"
      ]
     },
     "metadata": {
      "needs_background": "light"
     },
     "output_type": "display_data"
    }
   ],
   "source": [
    "plt.scatter(data_helico2['Wl'], data_helico2['T2'])"
   ]
  },
  {
   "cell_type": "code",
   "execution_count": 66,
   "metadata": {},
   "outputs": [
    {
     "data": {
      "text/plain": [
       "<matplotlib.collections.PathCollection at 0x29b913e3850>"
      ]
     },
     "execution_count": 66,
     "metadata": {},
     "output_type": "execute_result"
    },
    {
     "data": {
      "image/png": "[encoded data removed]",
      "text/plain": [
       "<Figure size 432x288 with 1 Axes>"
      ]
     },
     "metadata": {
      "needs_background": "light"
     },
     "output_type": "display_data"
    }
   ],
   "source": [
    "plt.scatter(data_helico2['Wl'], data_helico2['T3'])"
   ]
  },
  {
   "cell_type": "code",
   "execution_count": null,
   "id": "416d11f5",
   "metadata": {},
   "outputs": [],
   "source": []
  }
 ],
 "metadata": {
  "kernelspec": {
   "display_name": "Python 3.9.4 64-bit",
   "language": "python",
   "name": "python3"
  },
  "language_info": {
   "codemirror_mode": {
    "name": "ipython",
    "version": 3
   },
   "file_extension": ".py",
   "mimetype": "text/x-python",
   "name": "python",
   "nbconvert_exporter": "python",
   "pygments_lexer": "ipython3",
   "version": "3.9.4"
  },
  "vscode": {
   "interpreter": {
    "hash": "25034407fed5d681614dac11a1c0537e8cb49e3a8883c071303eea01322943d9"
   }
  }
 },
 "nbformat": 4,
 "nbformat_minor": 5
}
