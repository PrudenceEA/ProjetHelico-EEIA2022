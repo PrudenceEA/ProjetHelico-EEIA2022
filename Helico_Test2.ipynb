{
 "cells": [
  {
   "cell_type": "code",
   "execution_count": 3,
   "metadata": {},
   "outputs": [
    {
     "data": {
      "text/html": [
       "<div>\n",
       "<style scoped>\n",
       "    .dataframe tbody tr th:only-of-type {\n",
       "        vertical-align: middle;\n",
       "    }\n",
       "\n",
       "    .dataframe tbody tr th {\n",
       "        vertical-align: top;\n",
       "    }\n",
       "\n",
       "    .dataframe thead th {\n",
       "        text-align: right;\n",
       "    }\n",
       "</style>\n",
       "<table border=\"1\" class=\"dataframe\">\n",
       "  <thead>\n",
       "    <tr style=\"text-align: right;\">\n",
       "      <th></th>\n",
       "      <th>Wl</th>\n",
       "      <th>Ww</th>\n",
       "      <th>T1</th>\n",
       "      <th>T2</th>\n",
       "      <th>T3</th>\n",
       "      <th>Performance</th>\n",
       "      <th>Moyenne de temps</th>\n",
       "    </tr>\n",
       "  </thead>\n",
       "  <tbody>\n",
       "    <tr>\n",
       "      <th>0</th>\n",
       "      <td>33.55</td>\n",
       "      <td>69.81</td>\n",
       "      <td>1030</td>\n",
       "      <td>841</td>\n",
       "      <td>827</td>\n",
       "      <td>B</td>\n",
       "      <td>899.333333</td>\n",
       "    </tr>\n",
       "    <tr>\n",
       "      <th>1</th>\n",
       "      <td>65.32</td>\n",
       "      <td>30.53</td>\n",
       "      <td>705</td>\n",
       "      <td>817</td>\n",
       "      <td>778</td>\n",
       "      <td>Ma</td>\n",
       "      <td>766.666667</td>\n",
       "    </tr>\n",
       "    <tr>\n",
       "      <th>2</th>\n",
       "      <td>40.75</td>\n",
       "      <td>64.64</td>\n",
       "      <td>813</td>\n",
       "      <td>698</td>\n",
       "      <td>630</td>\n",
       "      <td>Mo</td>\n",
       "      <td>713.666667</td>\n",
       "    </tr>\n",
       "    <tr>\n",
       "      <th>3</th>\n",
       "      <td>50.39</td>\n",
       "      <td>68.77</td>\n",
       "      <td>843</td>\n",
       "      <td>775</td>\n",
       "      <td>757</td>\n",
       "      <td>Mo</td>\n",
       "      <td>791.666667</td>\n",
       "    </tr>\n",
       "    <tr>\n",
       "      <th>4</th>\n",
       "      <td>53.77</td>\n",
       "      <td>42.01</td>\n",
       "      <td>777</td>\n",
       "      <td>775</td>\n",
       "      <td>849</td>\n",
       "      <td>B</td>\n",
       "      <td>800.333333</td>\n",
       "    </tr>\n",
       "  </tbody>\n",
       "</table>\n",
       "</div>"
      ],
      "text/plain": [
       "      Wl     Ww    T1   T2   T3 Performance  Moyenne de temps\n",
       "0  33.55  69.81  1030  841  827           B        899.333333\n",
       "1  65.32  30.53   705  817  778          Ma        766.666667\n",
       "2  40.75  64.64   813  698  630          Mo        713.666667\n",
       "3  50.39  68.77   843  775  757          Mo        791.666667\n",
       "4  53.77  42.01   777  775  849           B        800.333333"
      ]
     },
     "execution_count": 3,
     "metadata": {},
     "output_type": "execute_result"
    }
   ],
   "source": [
    "data_helico2 = pd.read_csv('D:/Wiki/Programmes/Programmation/EEIA 2022/Projet/Classeur2.csv', sep=';')\n",
    "data_helico2['Moyenne de temps']= (data_helico2[\"T1\"] + data_helico2[\"T2\"] + data_helico2[\"T3\"])/3\n",
    "data_helico2.head()\n"
   ]
  },
  {
   "cell_type": "code",
   "execution_count": 4,
   "metadata": {},
   "outputs": [
    {
     "data": {
      "text/html": [
       "<div>\n",
       "<style scoped>\n",
       "    .dataframe tbody tr th:only-of-type {\n",
       "        vertical-align: middle;\n",
       "    }\n",
       "\n",
       "    .dataframe tbody tr th {\n",
       "        vertical-align: top;\n",
       "    }\n",
       "\n",
       "    .dataframe thead th {\n",
       "        text-align: right;\n",
       "    }\n",
       "</style>\n",
       "<table border=\"1\" class=\"dataframe\">\n",
       "  <thead>\n",
       "    <tr style=\"text-align: right;\">\n",
       "      <th></th>\n",
       "      <th>Wl</th>\n",
       "      <th>Ww</th>\n",
       "      <th>T1</th>\n",
       "      <th>T2</th>\n",
       "      <th>T3</th>\n",
       "      <th>Moyenne de temps</th>\n",
       "    </tr>\n",
       "  </thead>\n",
       "  <tbody>\n",
       "    <tr>\n",
       "      <th>Wl</th>\n",
       "      <td>1.000000</td>\n",
       "      <td>-0.200079</td>\n",
       "      <td>0.525540</td>\n",
       "      <td>0.513704</td>\n",
       "      <td>0.705488</td>\n",
       "      <td>0.715478</td>\n",
       "    </tr>\n",
       "    <tr>\n",
       "      <th>Ww</th>\n",
       "      <td>-0.200079</td>\n",
       "      <td>1.000000</td>\n",
       "      <td>0.134138</td>\n",
       "      <td>0.389441</td>\n",
       "      <td>0.149679</td>\n",
       "      <td>0.262559</td>\n",
       "    </tr>\n",
       "    <tr>\n",
       "      <th>T1</th>\n",
       "      <td>0.525540</td>\n",
       "      <td>0.134138</td>\n",
       "      <td>1.000000</td>\n",
       "      <td>0.343381</td>\n",
       "      <td>0.330747</td>\n",
       "      <td>0.756008</td>\n",
       "    </tr>\n",
       "    <tr>\n",
       "      <th>T2</th>\n",
       "      <td>0.513704</td>\n",
       "      <td>0.389441</td>\n",
       "      <td>0.343381</td>\n",
       "      <td>1.000000</td>\n",
       "      <td>0.832763</td>\n",
       "      <td>0.842570</td>\n",
       "    </tr>\n",
       "    <tr>\n",
       "      <th>T3</th>\n",
       "      <td>0.705488</td>\n",
       "      <td>0.149679</td>\n",
       "      <td>0.330747</td>\n",
       "      <td>0.832763</td>\n",
       "      <td>1.000000</td>\n",
       "      <td>0.839958</td>\n",
       "    </tr>\n",
       "    <tr>\n",
       "      <th>Moyenne de temps</th>\n",
       "      <td>0.715478</td>\n",
       "      <td>0.262559</td>\n",
       "      <td>0.756008</td>\n",
       "      <td>0.842570</td>\n",
       "      <td>0.839958</td>\n",
       "      <td>1.000000</td>\n",
       "    </tr>\n",
       "  </tbody>\n",
       "</table>\n",
       "</div>"
      ],
      "text/plain": [
       "                        Wl        Ww        T1        T2        T3  \\\n",
       "Wl                1.000000 -0.200079  0.525540  0.513704  0.705488   \n",
       "Ww               -0.200079  1.000000  0.134138  0.389441  0.149679   \n",
       "T1                0.525540  0.134138  1.000000  0.343381  0.330747   \n",
       "T2                0.513704  0.389441  0.343381  1.000000  0.832763   \n",
       "T3                0.705488  0.149679  0.330747  0.832763  1.000000   \n",
       "Moyenne de temps  0.715478  0.262559  0.756008  0.842570  0.839958   \n",
       "\n",
       "                  Moyenne de temps  \n",
       "Wl                        0.715478  \n",
       "Ww                        0.262559  \n",
       "T1                        0.756008  \n",
       "T2                        0.842570  \n",
       "T3                        0.839958  \n",
       "Moyenne de temps          1.000000  "
      ]
     },
     "execution_count": 4,
     "metadata": {},
     "output_type": "execute_result"
    }
   ],
   "source": [
    "data_helico2.corr()"
   ]
  },
  {
   "cell_type": "code",
   "execution_count": 7,
   "metadata": {},
   "outputs": [],
   "source": [
    "import pandas as pd \n",
    "import numpy as np \n",
    "import matplotlib.pyplot as plt\n",
    "from sklearn.linear_model import LinearRegression\n",
    "from sklearn.preprocessing import PolynomialFeatures\n",
    "from sklearn.metrics import mean_absolute_error \n"
   ]
  },
  {
   "cell_type": "code",
   "execution_count": 8,
   "metadata": {},
   "outputs": [
    {
     "data": {
      "text/plain": [
       "<matplotlib.collections.PathCollection at 0x2a718b7f460>"
      ]
     },
     "execution_count": 8,
     "metadata": {},
     "output_type": "execute_result"
    },
    {
     "data": {
      "image/png": "[encoded data removed]",
      "text/plain": [
       "<Figure size 432x288 with 1 Axes>"
      ]
     },
     "metadata": {
      "needs_background": "light"
     },
     "output_type": "display_data"
    }
   ],
   "source": [
    "plt.scatter(data_helico2[\"Wl\"], data_helico2[\"T1\"])"
   ]
  },
  {
   "cell_type": "code",
   "execution_count": 9,
   "metadata": {},
   "outputs": [
    {
     "data": {
      "text/plain": [
       "<matplotlib.collections.PathCollection at 0x2a71ac96400>"
      ]
     },
     "execution_count": 9,
     "metadata": {},
     "output_type": "execute_result"
    },
    {
     "data": {
      "image/png": "[encoded data removed]",
      "text/plain": [
       "<Figure size 432x288 with 1 Axes>"
      ]
     },
     "metadata": {
      "needs_background": "light"
     },
     "output_type": "display_data"
    }
   ],
   "source": [
    "plt.scatter(data_helico2['Wl'], data_helico2['T2'])"
   ]
  },
  {
   "cell_type": "code",
   "execution_count": 10,
   "metadata": {},
   "outputs": [
    {
     "data": {
      "text/plain": [
       "<matplotlib.collections.PathCollection at 0x2a71ad02ac0>"
      ]
     },
     "execution_count": 10,
     "metadata": {},
     "output_type": "execute_result"
    },
    {
     "data": {
      "image/png": "[encoded data removed]",
      "text/plain": [
       "<Figure size 432x288 with 1 Axes>"
      ]
     },
     "metadata": {
      "needs_background": "light"
     },
     "output_type": "display_data"
    }
   ],
   "source": [
    "plt.scatter(data_helico2['Wl'], data_helico2['T3'])"
   ]
  },
  {
   "cell_type": "code",
   "execution_count": 41,
   "metadata": {},
   "outputs": [
    {
     "data": {
      "text/plain": [
       "<mpl_toolkits.mplot3d.art3d.Path3DCollection at 0x2a72258f7c0>"
      ]
     },
     "execution_count": 41,
     "metadata": {},
     "output_type": "execute_result"
    },
    {
     "data": {
      "image/png": "[encoded data removed]",
      "text/plain": [
       "<Figure size 432x288 with 1 Axes>"
      ]
     },
     "metadata": {
      "needs_background": "light"
     },
     "output_type": "display_data"
    }
   ],
   "source": [
    "import matplotlib.pyplot as plt\n",
    "from mpl_toolkits.mplot3d import Axes3D\n",
    "fig = plt.figure()\n",
    "ax = fig.add_subplot(projection='3d')\n",
    "x, y, z = data_helico2[\"Wl\"], data_helico2[\"Ww\"], data_helico2[\"Moyenne de temps\"]\n",
    "ax.scatter(x, y, z, c=\"g\" )\n"
   ]
  },
  {
   "cell_type": "code",
   "execution_count": 45,
   "metadata": {},
   "outputs": [],
   "source": [
    "X = data_helico2[[\"Wl\", \"Ww\"]]\n",
    "Y = data_helico2[\"Moyenne de temps\"]"
   ]
  },
  {
   "cell_type": "code",
   "execution_count": 55,
   "metadata": {},
   "outputs": [
    {
     "data": {
      "text/plain": [
       "[<matplotlib.lines.Line2D at 0x2a72613b160>]"
      ]
     },
     "execution_count": 55,
     "metadata": {},
     "output_type": "execute_result"
    },
    {
     "data": {
      "image/png": "[encoded data removed]",
      "text/plain": [
       "<Figure size 432x288 with 1 Axes>"
      ]
     },
     "metadata": {
      "needs_background": "light"
     },
     "output_type": "display_data"
    }
   ],
   "source": [
    "scores = []\n",
    "for i in range (1, 16) : \n",
    "    polynomial_features = PolynomialFeatures(degree=i)\n",
    "    X_poly = polynomial_features.fit_transform(X)\n",
    "    model = LinearRegression()\n",
    "    c = model.fit(X_poly, Y)\n",
    "    Y_poly_pred = model.predict(X_poly)\n",
    "    #print (\"Score=\", model.score(X_poly, Y)) \n",
    "    scores.append(model.score(X_poly, Y))\n",
    "deg = [i for i in range(1, 16)]\n",
    "plt.plot(deg, scores)"
   ]
  },
  {
   "cell_type": "code",
   "execution_count": null,
   "metadata": {},
   "outputs": [],
   "source": [
    "from scipy import otimize\n"
   ]
  }
 ],
 "metadata": {
  "kernelspec": {
   "display_name": "Python 3.9.4 64-bit",
   "language": "python",
   "name": "python3"
  },
  "language_info": {
   "codemirror_mode": {
    "name": "ipython",
    "version": 3
   },
   "file_extension": ".py",
   "mimetype": "text/x-python",
   "name": "python",
   "nbconvert_exporter": "python",
   "pygments_lexer": "ipython3",
   "version": "3.9.4"
  },
  "orig_nbformat": 4,
  "vscode": {
   "interpreter": {
    "hash": "25034407fed5d681614dac11a1c0537e8cb49e3a8883c071303eea01322943d9"
   }
  }
 },
 "nbformat": 4,
 "nbformat_minor": 2
}
